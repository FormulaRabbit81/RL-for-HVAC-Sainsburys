{
 "cells": [
  {
   "cell_type": "code",
   "execution_count": 1,
   "metadata": {},
   "outputs": [],
   "source": [
    "import pandas as pd"
   ]
  },
  {
   "cell_type": "markdown",
   "metadata": {},
   "source": [
    "3 = comfortviols"
   ]
  },
  {
   "cell_type": "code",
   "execution_count": 9,
   "metadata": {},
   "outputs": [],
   "source": [
    "point4 = pd.read_csv(\"./basicresults(0.4,0.4).csv\")\n",
    "point6 = pd.read_csv(\"./basicresults(0.6,0.4).csv\")\n",
    "point8 = pd.read_csv(\"./basicresults(0.8,0.4).csv\")\n",
    "one = pd.read_csv(\"./basicresults(1,0.4).csv\")\n",
    "two = pd.read_csv(\"./basicresults(2,0.4).csv\")\n",
    "four = pd.read_csv(\"./basicresults(4,0.4).csv\")\n",
    "six = pd.read_csv(\"./basicresults(6,0.4).csv\")\n",
    "eight = pd.read_csv(\"./basicresults(8,0.4).csv\")\n",
    "ten = pd.read_csv(\"./basicresults(10,0.4).csv\")"
   ]
  },
  {
   "cell_type": "code",
   "execution_count": 11,
   "metadata": {},
   "outputs": [
    {
     "data": {
      "text/plain": [
       "0.0"
      ]
     },
     "execution_count": 11,
     "metadata": {},
     "output_type": "execute_result"
    }
   ],
   "source": [
    "sum(point4.iloc[3]) - sum(six.iloc[3])"
   ]
  },
  {
   "cell_type": "code",
   "execution_count": null,
   "metadata": {},
   "outputs": [],
   "source": []
  }
 ],
 "metadata": {
  "kernelspec": {
   "display_name": "base",
   "language": "python",
   "name": "python3"
  },
  "language_info": {
   "codemirror_mode": {
    "name": "ipython",
    "version": 3
   },
   "file_extension": ".py",
   "mimetype": "text/x-python",
   "name": "python",
   "nbconvert_exporter": "python",
   "pygments_lexer": "ipython3",
   "version": "3.8.8"
  },
  "orig_nbformat": 4
 },
 "nbformat": 4,
 "nbformat_minor": 2
}
